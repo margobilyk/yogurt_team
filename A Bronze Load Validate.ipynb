{
 "cells": [
  {
   "cell_type": "code",
   "execution_count": 0,
   "metadata": {
    "application/vnd.databricks.v1+cell": {
     "cellMetadata": {
      "byteLimit": 2048000,
      "implicitDf": true,
      "rowLimit": 10000
     },
     "inputWidgets": {},
     "nuid": "2a4df7d5-b7b1-4a4a-97b4-221a4839a7be",
     "showTitle": false,
     "tableResultSettingsMap": {},
     "title": ""
    }
   },
   "outputs": [],
   "source": [
    "%sql\n",
    "CREATE CATALOG IF NOT EXISTS yogurt;\n",
    "CREATE SCHEMA IF NOT EXISTS yogurt.bronze;\n",
    "USE CATALOG yogurt;\n",
    "USE SCHEMA bronze;\n"
   ]
  },
  {
   "cell_type": "code",
   "execution_count": 0,
   "metadata": {
    "application/vnd.databricks.v1+cell": {
     "cellMetadata": {
      "byteLimit": 2048000,
      "implicitDf": true,
      "rowLimit": 10000
     },
     "inputWidgets": {},
     "nuid": "e3a1e7ee-afa5-47c7-a3d7-7c0f5328e40f",
     "showTitle": false,
     "tableResultSettingsMap": {},
     "title": ""
    }
   },
   "outputs": [],
   "source": [
    "%sql\n",
    "\n",
    "CREATE OR REPLACE TABLE customer  USING DELTA AS SELECT * FROM samples.tpch.customer;\n",
    "CREATE OR REPLACE TABLE orders    USING DELTA AS SELECT * FROM samples.tpch.orders;\n",
    "CREATE OR REPLACE TABLE lineitem  USING DELTA AS SELECT * FROM samples.tpch.lineitem;\n",
    "CREATE OR REPLACE TABLE part      USING DELTA AS SELECT * FROM samples.tpch.part;\n",
    "CREATE OR REPLACE TABLE supplier  USING DELTA AS SELECT * FROM samples.tpch.supplier;\n",
    "CREATE OR REPLACE TABLE partsupp  USING DELTA AS SELECT * FROM samples.tpch.partsupp;\n",
    "CREATE OR REPLACE TABLE nation    USING DELTA AS SELECT * FROM samples.tpch.nation;\n",
    "CREATE OR REPLACE TABLE region    USING DELTA AS SELECT * FROM samples.tpch.region;\n"
   ]
  },
  {
   "cell_type": "code",
   "execution_count": 0,
   "metadata": {
    "application/vnd.databricks.v1+cell": {
     "cellMetadata": {
      "byteLimit": 2048000,
      "implicitDf": true,
      "rowLimit": 10000
     },
     "inputWidgets": {},
     "nuid": "fe4a4c49-2a15-4caa-8691-ceedb4842eda",
     "showTitle": false,
     "tableResultSettingsMap": {
      "0": {
       "dataGridStateBlob": "{\"version\":1,\"tableState\":{\"columnPinning\":{\"left\":[\"#row_number#\"],\"right\":[]},\"columnSizing\":{},\"columnVisibility\":{}},\"settings\":{\"columns\":{}},\"syncTimestamp\":1759859816438}",
       "filterBlob": null,
       "queryPlanFiltersBlob": null,
       "tableResultIndex": 0
      }
     },
     "title": ""
    }
   },
   "outputs": [],
   "source": [
    "%sql\n",
    "SHOW TABLES;"
   ]
  },
  {
   "cell_type": "code",
   "execution_count": 0,
   "metadata": {
    "application/vnd.databricks.v1+cell": {
     "cellMetadata": {
      "byteLimit": 2048000,
      "implicitDf": true,
      "rowLimit": 10000
     },
     "inputWidgets": {},
     "nuid": "63a2592d-e550-4aa5-80a7-7574fa930459",
     "showTitle": false,
     "tableResultSettingsMap": {},
     "title": ""
    }
   },
   "outputs": [],
   "source": [
    "%sql\n",
    "WITH src AS (\n",
    "  SELECT 'customer'  AS t, COUNT(*) c, COUNT(DISTINCT c_custkey) d FROM samples.tpch.customer\n",
    "  UNION ALL SELECT 'orders',    COUNT(*), COUNT(DISTINCT o_orderkey) FROM samples.tpch.orders\n",
    "  UNION ALL SELECT 'lineitem',  COUNT(*), COUNT(DISTINCT concat_ws('#', CAST(l_orderkey AS STRING), CAST(l_linenumber AS STRING))) FROM samples.tpch.lineitem\n",
    "  UNION ALL SELECT 'part',      COUNT(*), COUNT(DISTINCT p_partkey) FROM samples.tpch.part\n",
    "  UNION ALL SELECT 'supplier',  COUNT(*), COUNT(DISTINCT s_suppkey) FROM samples.tpch.supplier\n",
    "  UNION ALL SELECT 'partsupp',  COUNT(*), COUNT(DISTINCT concat_ws('#', CAST(ps_partkey AS STRING), CAST(ps_suppkey AS STRING))) FROM samples.tpch.partsupp\n",
    "  UNION ALL SELECT 'nation',    COUNT(*), COUNT(DISTINCT n_nationkey) FROM samples.tpch.nation\n",
    "  UNION ALL SELECT 'region',    COUNT(*), COUNT(DISTINCT r_regionkey) FROM samples.tpch.region\n",
    "),\n",
    "brz AS (\n",
    "  SELECT 'customer'  AS t, COUNT(*) c, COUNT(DISTINCT c_custkey) d FROM customer\n",
    "  UNION ALL SELECT 'orders',    COUNT(*), COUNT(DISTINCT o_orderkey) FROM orders\n",
    "  UNION ALL SELECT 'lineitem',  COUNT(*), COUNT(DISTINCT concat_ws('#', CAST(l_orderkey AS STRING), CAST(l_linenumber AS STRING))) FROM lineitem\n",
    "  UNION ALL SELECT 'part',      COUNT(*), COUNT(DISTINCT p_partkey) FROM part\n",
    "  UNION ALL SELECT 'supplier',  COUNT(*), COUNT(DISTINCT s_suppkey) FROM supplier\n",
    "  UNION ALL SELECT 'partsupp',  COUNT(*), COUNT(DISTINCT concat_ws('#', CAST(ps_partkey AS STRING), CAST(ps_suppkey AS STRING))) FROM partsupp\n",
    "  UNION ALL SELECT 'nation',    COUNT(*), COUNT(DISTINCT n_nationkey) FROM nation\n",
    "  UNION ALL SELECT 'region',    COUNT(*), COUNT(DISTINCT r_regionkey) FROM region\n",
    ")\n",
    "SELECT s.t AS table_name,\n",
    "       s.c AS src_count, b.c AS bronze_count,\n",
    "       s.d AS src_pk_distinct, b.d AS bronze_pk_distinct,\n",
    "       CASE WHEN s.c=b.c AND s.d=b.d THEN 'OK' ELSE 'MISMATCH' END AS status\n",
    "FROM src s JOIN brz b ON s.t=b.t\n",
    "ORDER BY 1;\n"
   ]
  },
  {
   "cell_type": "code",
   "execution_count": 0,
   "metadata": {
    "application/vnd.databricks.v1+cell": {
     "cellMetadata": {
      "byteLimit": 2048000,
      "implicitDf": true,
      "rowLimit": 10000
     },
     "inputWidgets": {},
     "nuid": "d193fe34-7dbb-4dd3-91f2-4e7e17001af5",
     "showTitle": false,
     "tableResultSettingsMap": {},
     "title": ""
    }
   },
   "outputs": [],
   "source": [
    "%sql\n",
    "CREATE TABLE IF NOT EXISTS _validation_runs (\n",
    "  ts TIMESTAMP,\n",
    "  table_name STRING,\n",
    "  src_count BIGINT,\n",
    "  bronze_count BIGINT,\n",
    "  src_pk_distinct BIGINT,\n",
    "  bronze_pk_distinct BIGINT,\n",
    "  status STRING\n",
    ") USING DELTA;\n",
    "\n",
    "WITH src AS (\n",
    "  SELECT 'customer'  AS t, COUNT(*) c, COUNT(DISTINCT c_custkey) d FROM samples.tpch.customer\n",
    "  UNION ALL SELECT 'orders',    COUNT(*), COUNT(DISTINCT o_orderkey) FROM samples.tpch.orders\n",
    "  UNION ALL SELECT 'lineitem',  COUNT(*), COUNT(DISTINCT concat_ws('#', CAST(l_orderkey AS STRING), CAST(l_linenumber AS STRING))) FROM samples.tpch.lineitem\n",
    "  UNION ALL SELECT 'part',      COUNT(*), COUNT(DISTINCT p_partkey) FROM samples.tpch.part\n",
    "  UNION ALL SELECT 'supplier',  COUNT(*), COUNT(DISTINCT s_suppkey) FROM samples.tpch.supplier\n",
    "  UNION ALL SELECT 'partsupp',  COUNT(*), COUNT(DISTINCT concat_ws('#', CAST(ps_partkey AS STRING), CAST(ps_suppkey AS STRING))) FROM samples.tpch.partsupp\n",
    "  UNION ALL SELECT 'nation',    COUNT(*), COUNT(DISTINCT n_nationkey) FROM samples.tpch.nation\n",
    "  UNION ALL SELECT 'region',    COUNT(*), COUNT(DISTINCT r_regionkey) FROM samples.tpch.region\n",
    "),\n",
    "brz AS (\n",
    "  SELECT 'customer'  AS t, COUNT(*) c, COUNT(DISTINCT c_custkey) d FROM customer\n",
    "  UNION ALL SELECT 'orders',    COUNT(*), COUNT(DISTINCT o_orderkey) FROM orders\n",
    "  UNION ALL SELECT 'lineitem',  COUNT(*), COUNT(DISTINCT concat_ws('#', CAST(l_orderkey AS STRING), CAST(l_linenumber AS STRING))) FROM lineitem\n",
    "  UNION ALL SELECT 'part',      COUNT(*), COUNT(DISTINCT p_partkey) FROM part\n",
    "  UNION ALL SELECT 'supplier',  COUNT(*), COUNT(DISTINCT s_suppkey) FROM supplier\n",
    "  UNION ALL SELECT 'partsupp',  COUNT(*), COUNT(DISTINCT concat_ws('#', CAST(ps_partkey AS STRING), CAST(ps_suppkey AS STRING))) FROM partsupp\n",
    "  UNION ALL SELECT 'nation',    COUNT(*), COUNT(DISTINCT n_nationkey) FROM nation\n",
    "  UNION ALL SELECT 'region',    COUNT(*), COUNT(DISTINCT r_regionkey) FROM region\n",
    ")\n",
    "INSERT INTO _validation_runs\n",
    "SELECT current_timestamp(), s.t, s.c, b.c, s.d, b.d,\n",
    "       CASE WHEN s.c=b.c AND s.d=b.d THEN 'OK' ELSE 'MISMATCH' END\n",
    "FROM src s JOIN brz b ON s.t=b.t;\n"
   ]
  },
  {
   "cell_type": "code",
   "execution_count": 0,
   "metadata": {
    "application/vnd.databricks.v1+cell": {
     "cellMetadata": {
      "byteLimit": 2048000,
      "implicitDf": true,
      "rowLimit": 10000
     },
     "inputWidgets": {},
     "nuid": "afad027e-d7f9-46d1-ad72-c0936a37c7c5",
     "showTitle": false,
     "tableResultSettingsMap": {},
     "title": ""
    }
   },
   "outputs": [],
   "source": [
    "%sql\n",
    "SELECT * FROM _validation_runs ORDER BY ts DESC, table_name;\n"
   ]
  },
  {
   "cell_type": "code",
   "execution_count": 0,
   "metadata": {
    "application/vnd.databricks.v1+cell": {
     "cellMetadata": {
      "byteLimit": 2048000,
      "implicitDf": true,
      "rowLimit": 10000
     },
     "inputWidgets": {},
     "nuid": "46a5d16b-3175-47c3-a41f-0590a17b9ee4",
     "showTitle": false,
     "tableResultSettingsMap": {},
     "title": ""
    }
   },
   "outputs": [],
   "source": [
    "%sql\n",
    "SELECT 'orders src'   AS scope, SUM(crc32(to_json(struct(*)))) AS checksum FROM samples.tpch.orders\n",
    "UNION ALL\n",
    "SELECT 'orders bronze',         SUM(crc32(to_json(struct(*)))) FROM orders;\n",
    "\n",
    "SELECT 'lineitem src' AS scope, SUM(crc32(to_json(struct(*)))) FROM samples.tpch.lineitem\n",
    "UNION ALL\n",
    "SELECT 'lineitem bronze',       SUM(crc32(to_json(struct(*)))) FROM lineitem;\n"
   ]
  }
 ],
 "metadata": {
  "application/vnd.databricks.v1+notebook": {
   "computePreferences": null,
   "dashboards": [],
   "environmentMetadata": {
    "base_environment": "",
    "environment_version": "3"
   },
   "inputWidgetPreferences": null,
   "language": "python",
   "notebookMetadata": {
    "mostRecentlyExecutedCommandWithImplicitDF": {
     "commandId": 5425104935460487,
     "dataframes": [
      "_sqldf"
     ]
    },
    "pythonIndentUnit": 4
   },
   "notebookName": "A Bronze Load Validate",
   "widgets": {
    "catalog_name": {
     "currentValue": "yogurt",
     "nuid": "867af54c-de2d-491c-88fd-ddd59ebe59ae",
     "typedWidgetInfo": {
      "autoCreated": false,
      "defaultValue": "yogurt",
      "label": null,
      "name": "catalog_name",
      "options": {
       "widgetDisplayType": "Text",
       "validationRegex": null
      },
      "parameterDataType": "String"
     },
     "widgetInfo": {
      "widgetType": "text",
      "defaultValue": "yogurt",
      "label": null,
      "name": "catalog_name",
      "options": {
       "widgetType": "text",
       "autoCreated": null,
       "validationRegex": null
      }
     }
    }
   }
  },
  "language_info": {
   "name": "python"
  }
 },
 "nbformat": 4,
 "nbformat_minor": 0
}
