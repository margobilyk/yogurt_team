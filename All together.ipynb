{
 "cells": [
  {
   "cell_type": "code",
   "execution_count": 0,
   "metadata": {
    "application/vnd.databricks.v1+cell": {
     "cellMetadata": {
      "byteLimit": 2048000,
      "implicitDf": true,
      "rowLimit": 10000
     },
     "inputWidgets": {},
     "nuid": "695d9bc4-d574-47f0-bb72-867894832380",
     "showTitle": false,
     "tableResultSettingsMap": {},
     "title": ""
    }
   },
   "outputs": [],
   "source": [
    "%sql\n",
    "CREATE CATALOG IF NOT EXISTS yogurt;\n",
    "CREATE SCHEMA IF NOT EXISTS yogurt.bronze;\n",
    "CREATE SCHEMA IF NOT EXISTS yogurt.silver;\n",
    "CREATE SCHEMA IF NOT EXISTS yogurt.monitoring;\n"
   ]
  },
  {
   "cell_type": "code",
   "execution_count": 0,
   "metadata": {
    "application/vnd.databricks.v1+cell": {
     "cellMetadata": {
      "byteLimit": 2048000,
      "implicitDf": true,
      "rowLimit": 10000
     },
     "inputWidgets": {},
     "nuid": "36f70fb7-7d3a-4953-a134-7a7ad5387340",
     "showTitle": false,
     "tableResultSettingsMap": {},
     "title": ""
    }
   },
   "outputs": [],
   "source": [
    "%sql\n",
    "USE CATALOG yogurt;\n",
    "USE SCHEMA silver;\n",
    "\n",
    "SHOW TABLES IN yogurt.bronze;\n",
    "\n"
   ]
  },
  {
   "cell_type": "code",
   "execution_count": 0,
   "metadata": {
    "application/vnd.databricks.v1+cell": {
     "cellMetadata": {
      "byteLimit": 2048000,
      "implicitDf": true,
      "rowLimit": 10000
     },
     "inputWidgets": {},
     "nuid": "be821dd5-5444-44c0-a0f2-e3040c46348c",
     "showTitle": false,
     "tableResultSettingsMap": {},
     "title": ""
    }
   },
   "outputs": [],
   "source": [
    "%sql\n",
    "SHOW TABLES IN yogurt.silver;\n"
   ]
  },
  {
   "cell_type": "code",
   "execution_count": 0,
   "metadata": {
    "application/vnd.databricks.v1+cell": {
     "cellMetadata": {
      "byteLimit": 2048000,
      "implicitDf": true,
      "rowLimit": 10000
     },
     "inputWidgets": {},
     "nuid": "b939f8f4-70de-4d6c-a0b8-882d311c679d",
     "showTitle": false,
     "tableResultSettingsMap": {},
     "title": ""
    }
   },
   "outputs": [],
   "source": [
    "%sql\n",
    "SELECT SUM(li.l_quantity) AS total_items\n",
    "FROM yogurt.silver.orders o\n",
    "JOIN yogurt.silver.lineitem li ON li.l_orderkey = o.o_orderkey\n",
    "WHERE o.o_custkey = 446044;\n"
   ]
  },
  {
   "cell_type": "code",
   "execution_count": 0,
   "metadata": {
    "application/vnd.databricks.v1+cell": {
     "cellMetadata": {
      "byteLimit": 2048000,
      "implicitDf": true,
      "rowLimit": 10000
     },
     "inputWidgets": {},
     "nuid": "daacd3ee-e64f-4fef-8fb4-1e5a29b09c1a",
     "showTitle": false,
     "tableResultSettingsMap": {},
     "title": ""
    }
   },
   "outputs": [],
   "source": [
    "%sql\n",
    "SELECT MIN(o_orderdate) AS first_purchase_date\n",
    "FROM yogurt.silver.orders\n",
    "WHERE o_custkey = 564787;"
   ]
  },
  {
   "cell_type": "code",
   "execution_count": 0,
   "metadata": {
    "application/vnd.databricks.v1+cell": {
     "cellMetadata": {
      "byteLimit": 2048000,
      "implicitDf": true,
      "rowLimit": 10000
     },
     "inputWidgets": {},
     "nuid": "96fab99b-bc78-4f26-a7d8-344f8827f382",
     "showTitle": false,
     "tableResultSettingsMap": {},
     "title": ""
    }
   },
   "outputs": [],
   "source": [
    "%sql\n",
    "SELECT COUNT(*) AS total_orders\n",
    "FROM yogurt.silver.orders\n",
    "WHERE o_custkey = 85909;\n"
   ]
  },
  {
   "cell_type": "code",
   "execution_count": 0,
   "metadata": {
    "application/vnd.databricks.v1+cell": {
     "cellMetadata": {
      "byteLimit": 2048000,
      "implicitDf": true,
      "rowLimit": 10000
     },
     "inputWidgets": {},
     "nuid": "923fff95-83e9-4656-822a-72ec00a3a898",
     "showTitle": false,
     "tableResultSettingsMap": {},
     "title": ""
    }
   },
   "outputs": [],
   "source": [
    "%sql\n",
    "WITH c_orders AS (\n",
    "  SELECT o.o_custkey, COUNT(*) AS cnt\n",
    "  FROM yogurt.silver.orders o\n",
    "  GROUP BY o.o_custkey\n",
    "),\n",
    "max_c AS (\n",
    "  SELECT o.o_custkey\n",
    "  FROM c_orders o\n",
    "  ORDER BY cnt DESC\n",
    "  LIMIT 1\n",
    ")\n",
    "SELECT n.n_name AS nationality\n",
    "FROM yogurt.silver.customer c\n",
    "JOIN yogurt.silver.nation n ON c.c_nationkey = n.n_nationkey\n",
    "JOIN max_c ON max_c.o_custkey = c.c_custkey;\n"
   ]
  },
  {
   "cell_type": "code",
   "execution_count": 0,
   "metadata": {
    "application/vnd.databricks.v1+cell": {
     "cellMetadata": {
      "byteLimit": 2048000,
      "implicitDf": true,
      "rowLimit": 10000
     },
     "inputWidgets": {},
     "nuid": "ca602716-2e13-4575-a5c0-03d577a005f3",
     "showTitle": false,
     "tableResultSettingsMap": {},
     "title": ""
    }
   },
   "outputs": [],
   "source": [
    "%sql\n",
    "CREATE SCHEMA IF NOT EXISTS yogurt.monitoring;\n",
    "\n",
    "CREATE OR REPLACE TABLE yogurt.monitoring.b4_answers AS\n",
    "SELECT 'Q1_total_items_446044' AS q,\n",
    "       CAST(SUM(li.l_quantity) AS STRING) AS ans\n",
    "FROM yogurt.silver.orders o\n",
    "JOIN yogurt.silver.lineitem li ON li.l_orderkey = o.o_orderkey\n",
    "WHERE o.o_custkey = 446044\n",
    "\n",
    "UNION ALL\n",
    "SELECT 'Q2_first_purchase_564787',\n",
    "       DATE_FORMAT(MIN(TO_DATE(o_orderdate)), 'yyyy-MM-dd')\n",
    "FROM yogurt.silver.orders\n",
    "WHERE o_custkey = 564787\n",
    "\n",
    "UNION ALL\n",
    "SELECT 'Q3_total_orders_85909',\n",
    "       CAST(COUNT(*) AS STRING)\n",
    "FROM yogurt.silver.orders\n",
    "WHERE o_custkey = 85909\n",
    "\n",
    "UNION ALL\n",
    "SELECT 'Q4_top_customer_nationality',\n",
    "       n.n_name\n",
    "FROM yogurt.silver.customer c\n",
    "JOIN yogurt.silver.nation n ON c.c_nationkey = n.n_nationkey\n",
    "JOIN (\n",
    "  SELECT o.o_custkey\n",
    "  FROM yogurt.silver.orders o\n",
    "  GROUP BY o.o_custkey\n",
    "  ORDER BY COUNT(*) DESC\n",
    "  LIMIT 1\n",
    ") m ON m.o_custkey = c.c_custkey;\n"
   ]
  }
 ],
 "metadata": {
  "application/vnd.databricks.v1+notebook": {
   "computePreferences": null,
   "dashboards": [],
   "environmentMetadata": {
    "base_environment": "",
    "environment_version": "3"
   },
   "inputWidgetPreferences": null,
   "language": "python",
   "notebookMetadata": {
    "mostRecentlyExecutedCommandWithImplicitDF": {
     "commandId": 5059887949586662,
     "dataframes": [
      "_sqldf"
     ]
    },
    "pythonIndentUnit": 4
   },
   "notebookName": "All together",
   "widgets": {
    "bronze_schema": {
     "currentValue": "bronze",
     "nuid": "e8b95fac-a81b-4da8-925a-c7f50721334f",
     "typedWidgetInfo": {
      "autoCreated": false,
      "defaultValue": "bronze",
      "label": null,
      "name": "bronze_schema",
      "options": {
       "widgetDisplayType": "Text",
       "validationRegex": null
      },
      "parameterDataType": "String"
     },
     "widgetInfo": {
      "widgetType": "text",
      "defaultValue": "bronze",
      "label": null,
      "name": "bronze_schema",
      "options": {
       "widgetType": "text",
       "autoCreated": false,
       "validationRegex": null
      }
     }
    },
    "catalog_name": {
     "currentValue": "yogurt",
     "nuid": "e4df778c-3283-4801-acd4-9b772ea4b91c",
     "typedWidgetInfo": {
      "autoCreated": false,
      "defaultValue": "yogurt",
      "label": null,
      "name": "catalog_name",
      "options": {
       "widgetDisplayType": "Text",
       "validationRegex": null
      },
      "parameterDataType": "String"
     },
     "widgetInfo": {
      "widgetType": "text",
      "defaultValue": "yogurt",
      "label": null,
      "name": "catalog_name",
      "options": {
       "widgetType": "text",
       "autoCreated": false,
       "validationRegex": null
      }
     }
    },
    "silver_schema": {
     "currentValue": "silver",
     "nuid": "d169060d-f3dd-41a6-8063-919d9b10db37",
     "typedWidgetInfo": {
      "autoCreated": false,
      "defaultValue": "silver",
      "label": null,
      "name": "silver_schema",
      "options": {
       "widgetDisplayType": "Text",
       "validationRegex": null
      },
      "parameterDataType": "String"
     },
     "widgetInfo": {
      "widgetType": "text",
      "defaultValue": "silver",
      "label": null,
      "name": "silver_schema",
      "options": {
       "widgetType": "text",
       "autoCreated": false,
       "validationRegex": null
      }
     }
    }
   }
  },
  "language_info": {
   "name": "python"
  }
 },
 "nbformat": 4,
 "nbformat_minor": 0
}
