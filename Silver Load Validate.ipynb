{
 "cells": [
  {
   "cell_type": "code",
   "execution_count": 0,
   "metadata": {
    "application/vnd.databricks.v1+cell": {
     "cellMetadata": {
      "byteLimit": 2048000,
      "implicitDf": true,
      "rowLimit": 10000
     },
     "inputWidgets": {},
     "nuid": "dd49e8a2-9800-4f9e-a66c-3cf543fa8ac2",
     "showTitle": false,
     "tableResultSettingsMap": {},
     "title": ""
    }
   },
   "outputs": [],
   "source": [
    "spark.sql(\"USE CATALOG yogurt\")\n",
    "spark.sql(\"CREATE SCHEMA IF NOT EXISTS silver\")\n",
    "spark.sql(\"USE SCHEMA silver\")\n",
    "\n",
    "display(spark.sql(\"SELECT current_catalog() AS catalog, current_database() AS schema\"))"
   ]
  },
  {
   "cell_type": "code",
   "execution_count": 0,
   "metadata": {
    "application/vnd.databricks.v1+cell": {
     "cellMetadata": {
      "byteLimit": 2048000,
      "implicitDf": true,
      "rowLimit": 10000
     },
     "inputWidgets": {},
     "nuid": "0ba6d71e-6cbd-46c3-9dae-c68ccf45d07c",
     "showTitle": false,
     "tableResultSettingsMap": {},
     "title": ""
    }
   },
   "outputs": [],
   "source": [
    "%sql\n",
    "CREATE OR REPLACE TABLE region (\n",
    "  r_regionkey INT, r_name STRING, r_comment STRING\n",
    ") USING DELTA;\n",
    "\n",
    "CREATE OR REPLACE TABLE nation (\n",
    "  n_nationkey INT, n_name STRING, n_regionkey INT, n_comment STRING\n",
    ") USING DELTA;\n",
    "\n",
    "CREATE OR REPLACE TABLE part (\n",
    "  p_partkey BIGINT, p_name STRING, p_mfgr STRING, p_brand STRING, p_type STRING,\n",
    "  p_size INT, p_container STRING, p_retailprice DECIMAL(12,2), p_comment STRING\n",
    ") USING DELTA;\n",
    "\n",
    "CREATE OR REPLACE TABLE supplier (\n",
    "  s_suppkey BIGINT, s_name STRING, s_address STRING, s_nationkey INT,\n",
    "  s_phone STRING, s_acctbal DECIMAL(12,2), s_comment STRING\n",
    ") USING DELTA;\n",
    "\n",
    "CREATE OR REPLACE TABLE partsupp (\n",
    "  ps_partkey BIGINT, ps_suppkey BIGINT, ps_availqty INT,\n",
    "  ps_supplycost DECIMAL(12,2), ps_comment STRING\n",
    ") USING DELTA;\n",
    "\n",
    "CREATE OR REPLACE TABLE customer (\n",
    "  c_custkey BIGINT, c_name STRING, c_address STRING, c_nationkey INT, c_phone STRING,\n",
    "  c_acctbal DECIMAL(12,2), c_mktsegment STRING, c_comment STRING\n",
    ") USING DELTA;\n",
    "\n",
    "CREATE OR REPLACE TABLE orders (\n",
    "  o_orderkey BIGINT, o_custkey BIGINT, o_orderstatus STRING,\n",
    "  o_totalprice DECIMAL(12,2), o_orderdate DATE, o_orderpriority STRING,\n",
    "  o_clerk STRING, o_shippriority INT, o_comment STRING\n",
    ") USING DELTA;\n",
    "\n",
    "CREATE OR REPLACE TABLE lineitem (\n",
    "  l_orderkey BIGINT, l_partkey BIGINT, l_suppkey BIGINT, l_linenumber INT,\n",
    "  l_quantity DECIMAL(12,2), l_extendedprice DECIMAL(12,2), l_discount DECIMAL(12,2),\n",
    "  l_tax DECIMAL(12,2), l_returnflag STRING, l_linestatus STRING,\n",
    "  l_shipdate DATE, l_commitdate DATE, l_receiptdate DATE,\n",
    "  l_shipinstruct STRING, l_shipmode STRING, l_comment STRING\n",
    ") USING DELTA;"
   ]
  },
  {
   "cell_type": "code",
   "execution_count": 0,
   "metadata": {
    "application/vnd.databricks.v1+cell": {
     "cellMetadata": {
      "byteLimit": 2048000,
      "implicitDf": true,
      "rowLimit": 10000
     },
     "inputWidgets": {},
     "nuid": "6bd48bef-a620-4459-98b2-9933572c35fc",
     "showTitle": false,
     "tableResultSettingsMap": {},
     "title": ""
    }
   },
   "outputs": [],
   "source": [
    "tables = [\"region\",\"nation\",\"part\",\"supplier\",\"partsupp\",\"customer\",\"orders\",\"lineitem\"]\n",
    "\n",
    "for t in tables:\n",
    "    spark.sql(f\"CREATE OR REPLACE TABLE yogurt.silver.{t} USING DELTA AS SELECT * FROM yogurt.bronze.{t}\")\n",
    "\n",
    "print(\"Silver tables loaded from yogurt.bronze\")"
   ]
  },
  {
   "cell_type": "code",
   "execution_count": 0,
   "metadata": {
    "application/vnd.databricks.v1+cell": {
     "cellMetadata": {
      "byteLimit": 2048000,
      "implicitDf": true,
      "rowLimit": 10000
     },
     "inputWidgets": {},
     "nuid": "1aa74bcf-10b8-470d-842c-cb42a817f39f",
     "showTitle": false,
     "tableResultSettingsMap": {},
     "title": ""
    }
   },
   "outputs": [],
   "source": [
    "from pyspark.sql import Row\n",
    "\n",
    "rows = []\n",
    "for t in [\"region\",\"nation\",\"part\",\"supplier\",\"partsupp\",\"customer\",\"orders\",\"lineitem\"]:\n",
    "    b = spark.sql(f\"SELECT COUNT(*) AS c FROM yogurt.bronze.{t}\").collect()[0][0]\n",
    "    s = spark.sql(f\"SELECT COUNT(*) AS c FROM yogurt.silver.{t}\").collect()[0][0]\n",
    "    rows.append(Row(table=t, bronze=b, silver=s, status=(\"yes\" if b==s else \"no\")))\n",
    "\n",
    "display(spark.createDataFrame(rows).orderBy(\"table\"))"
   ]
  },
  {
   "cell_type": "code",
   "execution_count": 0,
   "metadata": {
    "application/vnd.databricks.v1+cell": {
     "cellMetadata": {
      "byteLimit": 2048000,
      "implicitDf": true,
      "rowLimit": 10000
     },
     "inputWidgets": {},
     "nuid": "dee265ef-a4e3-4a8c-b844-c8d9d79a0e79",
     "showTitle": false,
     "tableResultSettingsMap": {},
     "title": ""
    }
   },
   "outputs": [],
   "source": [
    "%sql\n",
    "-- Q1: total items customer 446044 bought (sum of quantities)\n",
    "SELECT SUM(li.l_quantity) AS total_items\n",
    "FROM yogurt.silver.orders o\n",
    "JOIN yogurt.silver.lineitem li ON li.l_orderkey = o.o_orderkey\n",
    "WHERE o.o_custkey = 446044;\n"
   ]
  },
  {
   "cell_type": "code",
   "execution_count": 0,
   "metadata": {
    "application/vnd.databricks.v1+cell": {
     "cellMetadata": {
      "byteLimit": 2048000,
      "implicitDf": true,
      "rowLimit": 10000
     },
     "inputWidgets": {},
     "nuid": "ed536080-76bc-4439-8f89-579feeb644ae",
     "showTitle": false,
     "tableResultSettingsMap": {},
     "title": ""
    }
   },
   "outputs": [],
   "source": [
    "%sql\n",
    "-- Q2: first purchase date of customer 564787\n",
    "SELECT MIN(o_orderdate) AS first_purchase_date\n",
    "FROM yogurt.silver.orders\n",
    "WHERE o_custkey = 564787;\n"
   ]
  },
  {
   "cell_type": "code",
   "execution_count": 0,
   "metadata": {
    "application/vnd.databricks.v1+cell": {
     "cellMetadata": {
      "byteLimit": 2048000,
      "implicitDf": true,
      "rowLimit": 10000
     },
     "inputWidgets": {},
     "nuid": "48ccd9c6-485d-4f54-b1e2-8aee165e0821",
     "showTitle": false,
     "tableResultSettingsMap": {},
     "title": ""
    }
   },
   "outputs": [],
   "source": [
    "%sql\n",
    "-- Q3: how many orders customer 85909 made\n",
    "SELECT COUNT(*) AS orders_count\n",
    "FROM yogurt.silver.orders\n",
    "WHERE o_custkey = 85909;\n"
   ]
  },
  {
   "cell_type": "code",
   "execution_count": 0,
   "metadata": {
    "application/vnd.databricks.v1+cell": {
     "cellMetadata": {
      "byteLimit": 2048000,
      "implicitDf": true,
      "rowLimit": 10000
     },
     "inputWidgets": {},
     "nuid": "5b45551c-215b-4db2-b112-61d68fe5feac",
     "showTitle": false,
     "tableResultSettingsMap": {},
     "title": ""
    }
   },
   "outputs": [],
   "source": [
    "%sql\n",
    "-- Q4: nationality of the customer with the most orders\n",
    "WITH cnt AS (\n",
    "  SELECT o_custkey, COUNT(*) AS c\n",
    "  FROM yogurt.silver.orders\n",
    "  GROUP BY o_custkey\n",
    "),\n",
    "top1 AS (\n",
    "  SELECT o_custkey, c FROM cnt ORDER BY c DESC LIMIT 1\n",
    ")\n",
    "SELECT n.n_name AS nationality, t.c AS total_orders, t.o_custkey AS customer_id\n",
    "FROM top1 t\n",
    "JOIN yogurt.silver.customer c ON c.c_custkey = t.o_custkey\n",
    "JOIN yogurt.silver.nation   n ON n.n_nationkey = c.c_nationkey;\n"
   ]
  }
 ],
 "metadata": {
  "application/vnd.databricks.v1+notebook": {
   "computePreferences": null,
   "dashboards": [],
   "environmentMetadata": {
    "base_environment": "",
    "environment_version": "3"
   },
   "inputWidgetPreferences": null,
   "language": "python",
   "notebookMetadata": {
    "mostRecentlyExecutedCommandWithImplicitDF": {
     "commandId": 5425104935460495,
     "dataframes": [
      "_sqldf"
     ]
    },
    "pythonIndentUnit": 4
   },
   "notebookName": "Silver Load Validate",
   "widgets": {
    "catalog_name": {
     "currentValue": "yogurt",
     "nuid": "e7c87844-98d6-42d5-9003-5b46b68604b9",
     "typedWidgetInfo": {
      "autoCreated": false,
      "defaultValue": "yogurt",
      "label": null,
      "name": "catalog_name",
      "options": {
       "widgetDisplayType": "Text",
       "validationRegex": null
      },
      "parameterDataType": "String"
     },
     "widgetInfo": {
      "widgetType": "text",
      "defaultValue": "yogurt",
      "label": null,
      "name": "catalog_name",
      "options": {
       "widgetType": "text",
       "autoCreated": null,
       "validationRegex": null
      }
     }
    }
   }
  },
  "language_info": {
   "name": "python"
  }
 },
 "nbformat": 4,
 "nbformat_minor": 0
}
