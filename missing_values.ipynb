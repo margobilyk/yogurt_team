{
 "cells": [
  {
   "cell_type": "code",
   "execution_count": 0,
   "metadata": {
    "application/vnd.databricks.v1+cell": {
     "cellMetadata": {
      "byteLimit": 2048000,
      "rowLimit": 10000
     },
     "inputWidgets": {},
     "nuid": "f688cec3-f61f-45be-aa52-64e857a32b2a",
     "showTitle": false,
     "tableResultSettingsMap": {},
     "title": ""
    }
   },
   "outputs": [],
   "source": [
    "from pyspark.sql import DataFrame\n",
    "from pyspark.sql import functions as F\n",
    "import pandas as pd\n",
    "import matplotlib.pyplot as plt\n",
    "import seaborn as sns\n",
    "sns.set(style=\"whitegrid\")"
   ]
  },
  {
   "cell_type": "code",
   "execution_count": 0,
   "metadata": {
    "application/vnd.databricks.v1+cell": {
     "cellMetadata": {
      "byteLimit": 2048000,
      "rowLimit": 10000
     },
     "inputWidgets": {},
     "nuid": "f2b4287b-530d-4838-b57e-08b3acec4ff2",
     "showTitle": false,
     "tableResultSettingsMap": {},
     "title": ""
    }
   },
   "outputs": [],
   "source": [
    "def collect_missing_stats(df: DataFrame, treat_empty_str_as_null: bool = True) -> pd.DataFrame:\n",
    "    \"\"\"\n",
    "    Returns pandas DataFrame: ['column','missing_count','total_count','missing_percent']\n",
    "    Uses PySpark aggregations (scales to big tables).\n",
    "    \"\"\"\n",
    "    total_count = df.count()\n",
    "    exprs = []\n",
    "    for c in df.columns:\n",
    "        cond = F.col(c).isNull()\n",
    "        if treat_empty_str_as_null:\n",
    "            cond = cond | (F.col(c) == '')\n",
    "        exprs.append(F.sum(F.when(cond | F.isnan(F.col(c)), 1).otherwise(0)).alias(c))\n",
    "    row = df.select(*exprs).collect()[0].asDict()\n",
    "    rows = []\n",
    "    for c in df.columns:\n",
    "        missing = int(row.get(c, 0) or 0)\n",
    "        pct = round(100 * missing / total_count, 3) if total_count > 0 else 0.0\n",
    "        rows.append({\"column\": c, \"missing_count\": missing, \"total_count\": total_count, \"missing_percent\": pct})\n",
    "    return pd.DataFrame(rows)"
   ]
  },
  {
   "cell_type": "code",
   "execution_count": 0,
   "metadata": {
    "application/vnd.databricks.v1+cell": {
     "cellMetadata": {
      "byteLimit": 2048000,
      "rowLimit": 10000
     },
     "inputWidgets": {},
     "nuid": "807bce62-6e1a-4624-bbcb-f36e49e0040e",
     "showTitle": false,
     "tableResultSettingsMap": {},
     "title": ""
    }
   },
   "outputs": [],
   "source": [
    "def plot_pct_missing_bar(missing_df: pd.DataFrame, top_n: int = None, figsize=(10,8)):\n",
    "    df = missing_df.sort_values(\"missing_percent\", ascending=True)\n",
    "    if top_n:\n",
    "        df = df.tail(top_n)\n",
    "    plt.figure(figsize=figsize)\n",
    "    sns.barplot(x=\"missing_percent\", y=\"column\", data=df, edgecolor=\"k\")\n",
    "    plt.xlabel(\"% missing\")\n",
    "    plt.ylabel(\"Column\")\n",
    "    plt.title(\"Percent missing per column\")\n",
    "    plt.tight_layout()\n",
    "    plt.show()"
   ]
  },
  {
   "cell_type": "code",
   "execution_count": 0,
   "metadata": {
    "application/vnd.databricks.v1+cell": {
     "cellMetadata": {
      "byteLimit": 2048000,
      "rowLimit": 10000
     },
     "inputWidgets": {},
     "nuid": "5aa2b518-3b67-4f11-8893-03f0a523794f",
     "showTitle": false,
     "tableResultSettingsMap": {},
     "title": ""
    }
   },
   "outputs": [],
   "source": [
    "def sample_missing_matrix(df: DataFrame, sample_size: int = 500, seed: int = 42, treat_empty_str_as_null: bool = True):\n",
    "    total = df.count()\n",
    "    if total <= sample_size:\n",
    "        df_s = df\n",
    "    else:\n",
    "        frac = float(sample_size) / float(total)\n",
    "        df_s = df.sample(withReplacement=False, fraction=frac, seed=seed)\n",
    "        if df_s.count() > sample_size:\n",
    "            df_s = df_s.limit(sample_size)\n",
    "    select_exprs = []\n",
    "    for c in df.columns:\n",
    "        cond = (F.col(c).isNull())\n",
    "        if treat_empty_str_as_null:\n",
    "            cond = cond | (F.col(c) == '')\n",
    "        select_exprs.append(F.when(cond, 1).otherwise(0).alias(c))\n",
    "    pdf = df_s.select(*select_exprs).toPandas()\n",
    "    return pdf"
   ]
  },
  {
   "cell_type": "code",
   "execution_count": 0,
   "metadata": {
    "application/vnd.databricks.v1+cell": {
     "cellMetadata": {
      "byteLimit": 2048000,
      "rowLimit": 10000
     },
     "inputWidgets": {},
     "nuid": "1d85601a-9b58-412f-85b8-9b8e2eb16e19",
     "showTitle": false,
     "tableResultSettingsMap": {},
     "title": ""
    }
   },
   "outputs": [],
   "source": [
    "def plot_missing_matrix(pdf, max_cols=80, figsize=(14,6), save_path: str = None):\n",
    "    \"\"\"pdf is pandas DataFrame of 0/1 missing indicators (rows x cols)\"\"\"\n",
    "    if pdf.shape[1] > max_cols:\n",
    "        pdf = pdf.iloc[:, :max_cols]\n",
    "    plt.figure(figsize=figsize)\n",
    "    sns.heatmap(pdf.T, cbar=False, cmap=\"Greys\", vmin=0, vmax=1)\n",
    "    plt.xlabel(\"Sampled rows\")\n",
    "    plt.ylabel(\"Columns\")\n",
    "    plt.title(f\"Missingness matrix (sample rows={pdf.shape[0]})\")\n",
    "    plt.tight_layout()\n",
    "    if save_path:\n",
    "        plt.savefig(save_path, dpi=150, bbox_inches=\"tight\")\n",
    "    plt.show()"
   ]
  }
 ],
 "metadata": {
  "application/vnd.databricks.v1+notebook": {
   "computePreferences": null,
   "dashboards": [],
   "environmentMetadata": {
    "base_environment": "",
    "environment_version": "4"
   },
   "inputWidgetPreferences": null,
   "language": "python",
   "notebookMetadata": {
    "pythonIndentUnit": 4
   },
   "notebookName": "missing_values",
   "widgets": {}
  },
  "language_info": {
   "name": "python"
  }
 },
 "nbformat": 4,
 "nbformat_minor": 0
}
