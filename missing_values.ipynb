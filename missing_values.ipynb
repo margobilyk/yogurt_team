{
 "cells": [
  {
   "cell_type": "code",
   "execution_count": 0,
   "metadata": {
    "application/vnd.databricks.v1+cell": {
     "cellMetadata": {
      "byteLimit": 2048000,
      "rowLimit": 10000
     },
     "inputWidgets": {},
     "nuid": "8598b709-e726-47aa-8291-171b704d22eb",
     "showTitle": false,
     "tableResultSettingsMap": {},
     "title": ""
    }
   },
   "outputs": [],
   "source": [
    "from pyspark.sql import functions as F\n",
    "import pandas as pd\n",
    "import matplotlib.pyplot as plt\n",
    "import numpy as np\n",
    "\n",
    "df = (\n",
    "    spark.read.option(\"header\", \"true\")\n",
    "    .option(\"inferSchema\", \"true\")\n",
    "    .csv(\"/databricks-datasets/learning-spark-v2/sf-airbnb/sf-airbnb.csv\")\n",
    ")\n",
    "\n",
    "\n",
    "def collect_missing_stats(df, treat_empty_str_as_null=True):\n",
    "    \"\"\"\n",
    "    Compute missing values per column in a Spark DataFrame.\n",
    "    Returns pandas DataFrame: ['column','missing_count','total_count','missing_percent']\n",
    "    \"\"\"\n",
    "    total_count = df.count()\n",
    "    exprs = []\n",
    "\n",
    "    for c, t in df.dtypes:\n",
    "        cond = F.col(c).isNull()\n",
    "        if treat_empty_str_as_null and t == \"string\":\n",
    "            cond = cond | (F.col(c) == \"\")\n",
    "        if t in [\"double\", \"float\", \"int\", \"bigint\", \"smallint\", \"tinyint\", \"decimal\"]:\n",
    "            cond = cond | F.isnan(F.col(c))\n",
    "        exprs.append(F.sum(F.when(cond, 1).otherwise(0)).alias(c))\n",
    "\n",
    "    row = df.select(*exprs).collect()[0].asDict()\n",
    "    rows = []\n",
    "    for c in df.columns:\n",
    "        missing = int(row.get(c, 0) or 0)\n",
    "        pct = round(100 * missing / total_count, 3) if total_count > 0 else 0.0\n",
    "        rows.append({\"column\": c, \"missing_count\": missing, \"total_count\": total_count, \"missing_percent\": pct})\n",
    "    return pd.DataFrame(rows)\n",
    "\n",
    "missing_stats = collect_missing_stats(df)\n",
    "missing_stats_sorted = missing_stats.sort_values(\"missing_percent\", ascending=False)\n",
    "\n",
    "display(missing_stats_sorted.head(20))  \n",
    "\n",
    "top_20_cols = missing_stats_sorted.head(20)[\"column\"].tolist()\n",
    "\n",
    "plt.figure(figsize=(10, 6))\n",
    "plt.barh(missing_stats_sorted.head(20)[\"column\"], missing_stats_sorted.head(20)[\"missing_percent\"], color=\"steelblue\")\n",
    "plt.gca().invert_yaxis()\n",
    "plt.xlabel(\"Percent Missing (%)\")\n",
    "plt.title(\"Top 20 Columns by Missing Values — Airbnb Dataset\")\n",
    "plt.grid(axis=\"x\", linestyle=\"--\", alpha=0.7)\n",
    "plt.tight_layout()\n",
    "plt.show()\n",
    "pdf_sample = df.select(top_20_cols).toPandas()\n",
    "missing_matrix = pdf_sample.isnull().astype(int)\n",
    "\n",
    "plt.figure(figsize=(12, 8))\n",
    "plt.imshow(missing_matrix.T, aspect=\"auto\", cmap=\"gray_r\", interpolation=\"nearest\")\n",
    "plt.yticks(range(len(missing_matrix.columns)), missing_matrix.columns)\n",
    "plt.xticks([])\n",
    "plt.xlabel(\"Row index (sample of 300)\")\n",
    "plt.title(\"Heatmap of Missing Values — Top 20 Airbnb Columns\")\n",
    "plt.colorbar(label=\"Missing (1 = missing, 0 = present)\")\n",
    "plt.tight_layout()\n",
    "plt.show()\n"
   ]
  }
 ],
 "metadata": {
  "application/vnd.databricks.v1+notebook": {
   "computePreferences": null,
   "dashboards": [],
   "environmentMetadata": {
    "base_environment": "",
    "environment_version": "4"
   },
   "inputWidgetPreferences": null,
   "language": "python",
   "notebookMetadata": {
    "pythonIndentUnit": 4
   },
   "notebookName": "missing_values",
   "widgets": {}
  },
  "language_info": {
   "name": "python"
  }
 },
 "nbformat": 4,
 "nbformat_minor": 0
}
